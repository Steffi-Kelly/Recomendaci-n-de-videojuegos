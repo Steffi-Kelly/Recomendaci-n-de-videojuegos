{
 "cells": [
  {
   "cell_type": "markdown",
   "metadata": {},
   "source": [
    "# Exploración de Modelos\n",
    "\n",
    "Importamos lo necesario"
   ]
  },
  {
   "cell_type": "code",
   "execution_count": 1,
   "metadata": {},
   "outputs": [],
   "source": [
    "import pandas as pd\n",
    "import numpy as np\n",
    "import matplotlib.pyplot as plt\n",
    "import seaborn as sns\n",
    "import pickle\n",
    "\n",
    "from sklearn.preprocessing import StandardScaler\n",
    "from sklearn.preprocessing import PolynomialFeatures\n",
    "from sklearn.model_selection import train_test_split\n",
    "from sklearn.model_selection import GridSearchCV\n",
    "from sklearn.model_selection import cross_validate\n",
    "from sklearn.model_selection import cross_val_score\n",
    "from sklearn.linear_model import LinearRegression\n",
    "from sklearn.tree import DecisionTreeRegressor\n",
    "from sklearn.neighbors import KNeighborsRegressor\n",
    "from sklearn.svm import SVR as SupportVectorRegressor\n",
    "from sklearn.ensemble import RandomForestRegressor\n",
    "from sklearn.ensemble import StackingRegressor\n",
    "from sklearn.metrics import r2_score\n",
    "from sklearn.metrics import mean_squared_error\n",
    "\n",
    "import warnings\n",
    "warnings.filterwarnings('ignore')"
   ]
  },
  {
   "cell_type": "code",
   "execution_count": 2,
   "metadata": {},
   "outputs": [
    {
     "name": "stdout",
     "output_type": "stream",
     "text": [
      "Exception reporting mode: Minimal\n"
     ]
    }
   ],
   "source": [
    "%xmode minimal"
   ]
  },
  {
   "cell_type": "markdown",
   "metadata": {},
   "source": [
    "Abrimos el archivo generado en la etapa EDA"
   ]
  },
  {
   "cell_type": "code",
   "execution_count": null,
   "metadata": {},
   "outputs": [],
   "source": [
    "df = pd.read_parquet('steam_data_model.parquet')"
   ]
  },
  {
   "cell_type": "markdown",
   "metadata": {},
   "source": [
    "Definimos X e y"
   ]
  },
  {
   "cell_type": "code",
   "execution_count": null,
   "metadata": {},
   "outputs": [],
   "source": [
    "X = df.drop(['release_date', 'price', 'developer'], axis=1)\n",
    "y = df['price']"
   ]
  },
  {
   "cell_type": "markdown",
   "metadata": {},
   "source": [
    "Dividimos en test y train"
   ]
  },
  {
   "cell_type": "code",
   "execution_count": null,
   "metadata": {},
   "outputs": [],
   "source": [
    "X_train_unscaled, X_test_unscaled, y_train, y_test = train_test_split(X, y, test_size=0.2, random_state=42)"
   ]
  },
  {
   "cell_type": "markdown",
   "metadata": {},
   "source": [
    "Escalamos los datos (había probado sin escalar y la mejora fue marginal, pero mejora al fin)"
   ]
  },
  {
   "cell_type": "code",
   "execution_count": null,
   "metadata": {},
   "outputs": [],
   "source": [
    "sc_X = StandardScaler()\n",
    "X_train = sc_X.fit_transform(X_train_unscaled)\n",
    "X_test = sc_X.transform(X_test_unscaled)"
   ]
  },
  {
   "cell_type": "markdown",
   "metadata": {},
   "source": [
    "### Modelo Lineal\n",
    "\n",
    "Instanciamos el modelo y ajustamos el set de entrenamiento"
   ]
  },
  {
   "cell_type": "code",
   "execution_count": null,
   "metadata": {},
   "outputs": [],
   "source": [
    "lineal = LinearRegression()\n",
    "lineal.fit(X_train, y_train)"
   ]
  },
  {
   "cell_type": "markdown",
   "metadata": {},
   "source": [
    "Observamos MSE, RMSE y R2"
   ]
  },
  {
   "cell_type": "code",
   "execution_count": null,
   "metadata": {},
   "outputs": [],
   "source": [
    "y_train_pred = lineal.predict(X_train)\n",
    "y_test_pred = lineal.predict(X_test)\n",
    "\n",
    "mse_train_lineal = mean_squared_error(y_train, y_train_pred, squared = True)\n",
    "mse_test_lineal = mean_squared_error(y_test, y_test_pred, squared = True)\n",
    "print(f'El error cuadrático medio en Train: {mse_train_lineal}')\n",
    "print(f'El error cuadrático medio en Test: {mse_test_lineal}')\n",
    "print()\n",
    "rmse_train_lineal = np.sqrt(mse_train_lineal)\n",
    "rmse_test_lineal = np.sqrt(mse_test_lineal)\n",
    "print(f'Raíz del error cuadrático medio en Train: {rmse_train_lineal}')\n",
    "print(f'Raíz del error cuadrático medio en Test: {rmse_test_lineal}')\n",
    "print()\n",
    "r2_lineal = r2_score(y_test, y_test_pred)\n",
    "print('El coeficiente de determinación del regresor es:', r2_lineal)"
   ]
  },
  {
   "cell_type": "markdown",
   "metadata": {},
   "source": [
    "Observo la validación cruzada"
   ]
  },
  {
   "cell_type": "code",
   "execution_count": null,
   "metadata": {},
   "outputs": [],
   "source": [
    "scores = cross_val_score(lineal, X_train, y_train, cv=10, scoring='neg_mean_squared_error')\n",
    "\n",
    "positive_scores = -scores\n",
    "\n",
    "print(\"Cross-Validation Scores:\", positive_scores)\n",
    "print(\"Average MSE:\", positive_scores.mean())"
   ]
  },
  {
   "cell_type": "code",
   "execution_count": null,
   "metadata": {},
   "outputs": [],
   "source": [
    "scores = cross_val_score(lineal, X_test, y_test, cv=10, scoring='neg_mean_squared_error')\n",
    "\n",
    "positive_scores = -scores\n",
    "\n",
    "print(\"Cross-Validation Scores:\", positive_scores)\n",
    "print(\"Average MSE:\", positive_scores.mean())"
   ]
  },
  {
   "cell_type": "code",
   "execution_count": null,
   "metadata": {},
   "outputs": [],
   "source": [
    "plt.figure(figsize=(17, 12))\n",
    "\n",
    "sns.scatterplot(x=y_train, y=y_train_pred, label='Predicciones Train', color='magenta', alpha=0.2)\n",
    "\n",
    "sns.regplot(x=y_train, y=y_train_pred, label='Regresión Lineal Train', scatter=False, color='cyan', line_kws={'linestyle': '--', 'alpha': 0.7})\n",
    "\n",
    "\n",
    "plt.xlabel('Y Real')\n",
    "plt.ylabel('Y Predicha')\n",
    "plt.title('Valores predichos vs. reales y línea de regresión en Train')\n",
    "\n",
    "plt.legend()\n",
    "\n",
    "plt.show()"
   ]
  },
  {
   "cell_type": "code",
   "execution_count": null,
   "metadata": {},
   "outputs": [],
   "source": [
    "plt.figure(figsize=(17, 12))\n",
    "\n",
    "sns.scatterplot(x=y_test, y=y_test_pred, label='Predicciones Test', color='magenta', alpha=0.2)\n",
    "\n",
    "sns.regplot(x=y_test, y=y_test_pred, label='Regresión Lineal Test', scatter=False, color='cyan', line_kws={'linestyle': '--', 'alpha': 0.7})\n",
    "\n",
    "plt.xlabel('Y Real')\n",
    "plt.ylabel('Y Predicha')\n",
    "plt.title('Valores predichos vs. reales y línea de regresión en Test')\n",
    "\n",
    "plt.legend()\n",
    "\n",
    "plt.show()"
   ]
  },
  {
   "cell_type": "code",
   "execution_count": null,
   "metadata": {},
   "outputs": [],
   "source": [
    "plt.figure(figsize=(17, 12))\n",
    "sns.residplot(x=y_test_pred, y=y_test_pred - y_test, lowess=True, color='magenta',\n",
    "              scatter_kws={'alpha': 0.2}, line_kws={'color': 'cyan', 'linestyle': '--', 'alpha': 0.7})\n",
    "plt.xlabel('Predicted Values')\n",
    "plt.ylabel('Residuals')\n",
    "plt.title('Residual Plot')\n",
    "plt.show()"
   ]
  },
  {
   "cell_type": "code",
   "execution_count": null,
   "metadata": {},
   "outputs": [],
   "source": [
    "plt.figure(figsize=(17, 12))\n",
    "sns.histplot(y_test_pred - y_test, bins=20, kde=True, color='purple')\n",
    "plt.title('Regresión Lineal: Distribución de Error')\n",
    "plt.xlabel('Prediction Error')\n",
    "plt.ylabel('Frequency')\n",
    "plt.show()"
   ]
  },
  {
   "cell_type": "markdown",
   "metadata": {},
   "source": [
    "En todos los modelos subsiguientes repetimos los pasos de instanciamiento, ajuste, y observación de métricas para evaluar el rendimiento de los mismos; así como gráficos mostrando el rendimiento y otras características del modelo."
   ]
  },
  {
   "cell_type": "markdown",
   "metadata": {},
   "source": [
    "### Modelo Lineal con características polinomiales"
   ]
  },
  {
   "cell_type": "code",
   "execution_count": null,
   "metadata": {},
   "outputs": [],
   "source": [
    "# Para este modelos vamos a aplicar dos pre procesamientos, por lo que vamos a instanciar StandardScaler nuevamente.\n",
    "\n",
    "poly = PolynomialFeatures(degree=2)\n",
    "X_train_poly = poly.fit_transform(X_train_unscaled)\n",
    "X_test_poly = poly.transform(X_test_unscaled)\n",
    "\n",
    "scaler = StandardScaler()\n",
    "X_train_scaled = scaler.fit_transform(X_train_poly)\n",
    "X_test_scaled = scaler.transform(X_test_poly)\n",
    "\n",
    "lineal_poly = LinearRegression()\n",
    "lineal_poly.fit(X_train_scaled, y_train)"
   ]
  },
  {
   "cell_type": "markdown",
   "metadata": {},
   "source": [
    "Probé con 2, 3, 4. El elegido fue 2, ya en 3 los valores no tenían lógica (y 4 nunca terminó de ejecutar)"
   ]
  },
  {
   "cell_type": "code",
   "execution_count": null,
   "metadata": {},
   "outputs": [],
   "source": [
    "y_poly_train_pred = lineal_poly.predict(X_train_scaled)\n",
    "y_poly_test_pred = lineal_poly.predict(X_test_scaled)\n",
    "\n",
    "mse_train_lineal_poly = mean_squared_error(y_train, y_poly_train_pred, squared = True)\n",
    "mse_test_lineal_poly = mean_squared_error(y_test, y_poly_test_pred, squared = True)\n",
    "print(f'El error cuadrático medio en Train: {mse_train_lineal_poly}')\n",
    "print(f'El error cuadrático medio en Test: {mse_test_lineal_poly}')\n",
    "print()\n",
    "rmse_train_lineal_poly = np.sqrt(mse_train_lineal_poly)\n",
    "rmse_test_lineal_poly = np.sqrt(mse_test_lineal_poly)\n",
    "print(f'Raíz del error cuadrático medio en Train: {rmse_train_lineal_poly}')\n",
    "print(f'Raíz del error cuadrático medio en Test: {rmse_test_lineal_poly}')\n",
    "print()\n",
    "r2_lineal_poly = r2_score(y_test, y_poly_test_pred)\n",
    "print('El coeficiente de determinación del regresor es:', r2_lineal_poly)"
   ]
  },
  {
   "cell_type": "markdown",
   "metadata": {},
   "source": [
    "Observo la cross validation"
   ]
  },
  {
   "cell_type": "code",
   "execution_count": null,
   "metadata": {},
   "outputs": [],
   "source": [
    "scores = cross_val_score(lineal_poly, X_train, y_train, cv=10, scoring='neg_mean_squared_error')\n",
    "\n",
    "positive_scores = -scores\n",
    "\n",
    "print(\"Cross-Validation Scores:\", positive_scores)\n",
    "print(\"Average MSE:\", positive_scores.mean())"
   ]
  },
  {
   "cell_type": "code",
   "execution_count": null,
   "metadata": {},
   "outputs": [],
   "source": [
    "scores = cross_val_score(lineal_poly, X_test, y_test, cv=10, scoring='neg_mean_squared_error')\n",
    "\n",
    "positive_scores = -scores\n",
    "\n",
    "print(\"Cross-Validation Scores:\", positive_scores)\n",
    "print(\"Average MSE:\", positive_scores.mean())"
   ]
  },
  {
   "cell_type": "code",
   "execution_count": null,
   "metadata": {},
   "outputs": [],
   "source": [
    "plt.figure(figsize=(17, 12))\n",
    "\n",
    "sns.scatterplot(x=y_train, y=y_poly_train_pred, label='Predicciones Train', color='magenta', alpha=0.2)\n",
    "\n",
    "sns.regplot(x=y_train, y=y_poly_train_pred, label='Regresión Lineal Train', scatter=False, color='cyan', line_kws={'linestyle': '--', 'alpha': 0.7})\n",
    "\n",
    "plt.xlabel('Y Real')\n",
    "plt.ylabel('Y Predicha')\n",
    "plt.title('Valores predichos vs. reales y línea de regresión en train')\n",
    "\n",
    "plt.legend()\n",
    "\n",
    "plt.show()"
   ]
  },
  {
   "cell_type": "code",
   "execution_count": null,
   "metadata": {},
   "outputs": [],
   "source": [
    "plt.figure(figsize=(17, 12))\n",
    "\n",
    "sns.scatterplot(x=y_test, y=y_poly_test_pred, label='Predicciones Test', color='magenta', alpha=0.2)\n",
    "\n",
    "sns.regplot(x=y_test, y=y_poly_test_pred, label='Regresión Lineal Test', scatter=False, color='cyan', line_kws={'linestyle': '--', 'alpha': 0.7})\n",
    "\n",
    "plt.xlabel('Y Real')\n",
    "plt.ylabel('Y Predicha')\n",
    "plt.title('Valores predichos vs. reales y línea de regresión en test')\n",
    "\n",
    "plt.legend()\n",
    "\n",
    "plt.show()"
   ]
  },
  {
   "cell_type": "code",
   "execution_count": null,
   "metadata": {},
   "outputs": [],
   "source": [
    "plt.figure(figsize=(17, 12))\n",
    "sns.residplot(x=y_poly_test_pred, y=y_poly_test_pred - y_test, lowess=True, color='magenta',\n",
    "              scatter_kws={'alpha': 0.2}, line_kws={'color': 'cyan', 'linestyle': '--', 'alpha': 0.7})\n",
    "plt.xlabel('Predicted Values')\n",
    "plt.ylabel('Residuals')\n",
    "plt.title('Residual Plot')\n",
    "plt.show()"
   ]
  },
  {
   "cell_type": "code",
   "execution_count": null,
   "metadata": {},
   "outputs": [],
   "source": [
    "plt.figure(figsize=(17, 12))\n",
    "sns.histplot(y_poly_test_pred - y_test, bins=20, kde=True, color='purple')\n",
    "plt.title('Regresión Polinómica: Distribución de Error')\n",
    "plt.xlabel('Prediction Error')\n",
    "plt.ylabel('Frequency')\n",
    "plt.show()"
   ]
  },
  {
   "cell_type": "markdown",
   "metadata": {},
   "source": [
    "### Modelo de Árbol (Tree)"
   ]
  },
  {
   "cell_type": "markdown",
   "metadata": {},
   "source": [
    "Exploramos profundidades"
   ]
  },
  {
   "cell_type": "code",
   "execution_count": null,
   "metadata": {},
   "outputs": [],
   "source": [
    "tree_train_scores_mean = []\n",
    "tree_train_scores_std = []\n",
    "tree_test_scores_mean = []\n",
    "tree_test_scores_std = []\n",
    "\n",
    "profundidades = np.arange(1,10,1)\n",
    "i = 0\n",
    "i_max = len(profundidades)\n",
    "for profundidad in profundidades:\n",
    "    i = i + 1\n",
    "    reg = DecisionTreeRegressor(max_depth=profundidad)\n",
    "    tree_scores = cross_validate(reg, X, y, cv=5, return_train_score=True, n_jobs = -1)\n",
    "    \n",
    "    tree_train_scores_mean.append(tree_scores['train_score'].mean())\n",
    "    tree_train_scores_std.append(tree_scores['train_score'].std())\n",
    "    \n",
    "    tree_test_scores_mean.append(tree_scores['test_score'].mean())\n",
    "    tree_test_scores_std.append(tree_scores['test_score'].std())\n",
    "    \n",
    "tree_train_scores_mean = np.array(tree_train_scores_mean)\n",
    "tree_train_scores_std = np.array(tree_train_scores_std)\n",
    "tree_test_scores_mean = np.array(tree_test_scores_mean)\n",
    "tree_test_scores_std = np.array(tree_test_scores_std)"
   ]
  },
  {
   "cell_type": "markdown",
   "metadata": {},
   "source": [
    "Graficamos"
   ]
  },
  {
   "cell_type": "code",
   "execution_count": null,
   "metadata": {},
   "outputs": [],
   "source": [
    "plt.figure(figsize=(17, 12))\n",
    "\n",
    "sns.lineplot(x=profundidades, y=tree_train_scores_mean, marker='o', color='magenta', label='Training score')\n",
    "plt.fill_between(profundidades, tree_train_scores_mean - tree_train_scores_std,\n",
    "                 tree_train_scores_mean + tree_train_scores_std, alpha=0.1, color=\"magenta\")\n",
    "\n",
    "sns.lineplot(x=profundidades, y=tree_test_scores_mean, marker='o', color='cyan', label='Test score')\n",
    "plt.fill_between(profundidades, tree_test_scores_mean - tree_test_scores_std,\n",
    "                 tree_test_scores_mean + tree_test_scores_std, alpha=0.1, color=\"cyan\")\n",
    "\n",
    "plt.legend()\n",
    "plt.ylabel('Score')\n",
    "plt.xlabel('Profundidad Árbol Decisión')\n",
    "plt.title('Scores en Test y Train')\n",
    "plt.grid(True)\n",
    "plt.show()"
   ]
  },
  {
   "cell_type": "markdown",
   "metadata": {},
   "source": [
    "Nos quedamos con 4, que es donde tenemos mejor rendimiento en test antes de que test y train comiencen a alejarse"
   ]
  },
  {
   "cell_type": "code",
   "execution_count": null,
   "metadata": {},
   "outputs": [],
   "source": [
    "tree = DecisionTreeRegressor(max_depth=4)\n",
    "\n",
    "tree.fit(X_train, y_train)"
   ]
  },
  {
   "cell_type": "code",
   "execution_count": null,
   "metadata": {},
   "outputs": [],
   "source": [
    "y_train_pred_tree = tree.predict(X_train)\n",
    "y_test_pred_tree = tree.predict(X_test)\n",
    "\n",
    "mse_train_tree = mean_squared_error(y_train, y_train_pred_tree, squared = True)\n",
    "mse_test_tree = mean_squared_error(y_test, y_test_pred_tree, squared = True)\n",
    "print(f'El error cuadrático medio en Train: {mse_train_tree}')\n",
    "print(f'El error cuadrático medio en Test: {mse_test_tree}')\n",
    "print()\n",
    "rmse_train_tree = np.sqrt(mse_train_tree)\n",
    "rmse_test_tree = np.sqrt(mse_test_tree)\n",
    "print(f'Raíz del error cuadrático medio en Train: {rmse_train_tree}')\n",
    "print(f'Raíz del error cuadrático medio en Test: {rmse_test_tree}')\n",
    "print()\n",
    "r2_tree = r2_score(y_test, y_test_pred_tree)\n",
    "print('El coeficiente de determinación del regresor es:', r2_tree)"
   ]
  },
  {
   "cell_type": "code",
   "execution_count": null,
   "metadata": {},
   "outputs": [],
   "source": [
    "scores = cross_val_score(tree, X_train, y_train, cv=10, scoring='neg_mean_squared_error')\n",
    "\n",
    "positive_scores = -scores\n",
    "\n",
    "print(\"Cross-Validation Scores:\", positive_scores)\n",
    "print(\"Average RMSE:\", positive_scores.mean())"
   ]
  },
  {
   "cell_type": "code",
   "execution_count": null,
   "metadata": {},
   "outputs": [],
   "source": [
    "scores = cross_val_score(tree, X_train, y_train, cv=5, scoring='neg_mean_squared_error')\n",
    "\n",
    "positive_scores = -scores\n",
    "\n",
    "print(\"Cross-Validation Scores:\", positive_scores)\n",
    "print(\"Average RMSE:\", positive_scores.mean())"
   ]
  },
  {
   "cell_type": "code",
   "execution_count": null,
   "metadata": {},
   "outputs": [],
   "source": [
    "# Creamos un DataFrame para plottear\n",
    "pred_vs_actual_tree = pd.DataFrame({'Real': y_test, 'Predicho': y_test_pred_tree})\n",
    "\n",
    "plt.figure(figsize=(17, 12))\n",
    "sns.scatterplot(x='Real', y='Predicho', data=pred_vs_actual_tree, color='magenta', alpha=0.2)\n",
    "plt.plot([min(y_test), max(y_test)], [min(y_test), max(y_test)], color='cyan', linestyle='--')\n",
    "plt.title('Predicho vs. Real (Decision Tree Regressor)')\n",
    "plt.xlabel('Real')\n",
    "plt.ylabel('Predicho')\n",
    "plt.show()"
   ]
  },
  {
   "cell_type": "markdown",
   "metadata": {},
   "source": [
    "Observamos los valores con un residual plot"
   ]
  },
  {
   "cell_type": "code",
   "execution_count": null,
   "metadata": {},
   "outputs": [],
   "source": [
    "# Calculamos residuales\n",
    "residuals_tree = y_test - y_test_pred_tree\n",
    "\n",
    "# Armamos dataframe\n",
    "residuals_df_tree = pd.DataFrame({'Residuals': residuals_tree})\n",
    "\n",
    "# Plotteamos\n",
    "plt.figure(figsize=(17, 12))\n",
    "sns.scatterplot(x=y_test_pred_tree, y=residuals_tree, color='magenta', alpha=0.2)\n",
    "plt.axhline(y=0, color='cyan', linestyle='--')\n",
    "plt.title('Residual Plot (Decision Tree Regressor)')\n",
    "plt.xlabel('Predicho')\n",
    "plt.ylabel('Residuales')\n",
    "plt.show()"
   ]
  },
  {
   "cell_type": "markdown",
   "metadata": {},
   "source": [
    "### Modelo K-Vecinos"
   ]
  },
  {
   "cell_type": "markdown",
   "metadata": {},
   "source": [
    "Observamos al curva de aprendizaje"
   ]
  },
  {
   "cell_type": "code",
   "execution_count": null,
   "metadata": {},
   "outputs": [],
   "source": [
    "k_values = [1] + list(range(5, 101, 5))\n",
    "train_errors = []\n",
    "test_errors = []\n",
    "\n",
    "for k in k_values:\n",
    "    knn = KNeighborsRegressor(n_neighbors=k)\n",
    "    knn.fit(X_train, y_train)\n",
    "    y_train_pred = knn.predict(X_train)\n",
    "    y_test_pred = knn.predict(X_test)\n",
    "    train_errors.append(mean_squared_error(y_train, y_train_pred))\n",
    "    test_errors.append(mean_squared_error(y_test, y_test_pred))"
   ]
  },
  {
   "cell_type": "code",
   "execution_count": null,
   "metadata": {},
   "outputs": [],
   "source": [
    "plt.figure(figsize=(17, 12))\n",
    "sns.lineplot(x=k_values, y=train_errors, marker='o', color='magenta', label='Train')\n",
    "sns.lineplot(x=k_values, y=test_errors, marker='o', color='cyan', label='Test')\n",
    "plt.title('Learning Curve - KNeighborsRegressor')\n",
    "plt.xlabel('Number of Neighbors (k)')\n",
    "plt.ylabel('Mean Squared Error')\n",
    "plt.legend()\n",
    "plt.show()"
   ]
  },
  {
   "cell_type": "markdown",
   "metadata": {},
   "source": [
    "Elegimos 50, ya que en ese punto la distacia entre test y train es la menor, antes de que comience a subir el MSE."
   ]
  },
  {
   "cell_type": "code",
   "execution_count": null,
   "metadata": {},
   "outputs": [],
   "source": [
    "neighbors =  KNeighborsRegressor(n_neighbors=50)\n",
    "\n",
    "neighbors.fit(X_train, y_train)"
   ]
  },
  {
   "cell_type": "code",
   "execution_count": null,
   "metadata": {},
   "outputs": [],
   "source": [
    "y_train_pred_nei = neighbors.predict(X_train)\n",
    "y_test_pred_nei = neighbors.predict(X_test)\n",
    "\n",
    "mse_train_nei = mean_squared_error(y_train, y_train_pred_nei, squared = True)\n",
    "mse_test_nei = mean_squared_error(y_test, y_test_pred_nei, squared = True)\n",
    "print(f'El error cuadrático medio en Train: {mse_train_nei}')\n",
    "print(f'El error cuadrático medio en Test: {mse_test_nei}')\n",
    "print()\n",
    "rmse_train_nei = np.sqrt(mse_train_nei)\n",
    "rmse_test_nei = np.sqrt(mse_test_nei)\n",
    "print(rmse_train_nei)\n",
    "print(rmse_test_nei)\n",
    "print()\n",
    "r2_nei = r2_score(y_test, y_test_pred_nei)\n",
    "print('El coeficiente de determinación del regresor es:', r2_nei)"
   ]
  },
  {
   "cell_type": "code",
   "execution_count": null,
   "metadata": {},
   "outputs": [],
   "source": [
    "# Scatter plot for Predicted vs. Actual values (Train)\n",
    "plt.figure(figsize=(17, 12))\n",
    "sns.scatterplot(x=y_train_pred_nei, y=y_train, color='magenta', alpha=0.2)\n",
    "plt.title('Predicho vs. Real K-Vecinos en Train')\n",
    "plt.xlabel('Real')\n",
    "plt.ylabel('Predicho')\n",
    "plt.show()\n",
    "\n",
    "# Scatter plot for Predicted vs. Actual values (Test)\n",
    "plt.figure(figsize=(17, 12))\n",
    "sns.scatterplot(x=y_test_pred_nei, y=y_test, color='purple', alpha=0.2)\n",
    "plt.title('Predicho vs. Real K-Vecinos en Test')\n",
    "plt.xlabel('Predicted Values')\n",
    "plt.ylabel('Actual Values')\n",
    "plt.show()\n",
    "\n",
    "\n",
    "# Residuales\n",
    "residuals = y_test - y_test_pred_nei\n",
    "plt.figure(figsize=(17, 12))\n",
    "sns.scatterplot(x=y_test_pred_nei, y=residuals, color='orange', alpha=0.2)\n",
    "plt.axhline(y=0, color='cyan', linestyle='--')\n",
    "plt.title('Residual Plot K-Vecinos')\n",
    "plt.xlabel('Predicho')\n",
    "plt.ylabel('Residuales')\n",
    "plt.show()"
   ]
  },
  {
   "cell_type": "markdown",
   "metadata": {},
   "source": [
    "### Modelo Random Forest\n",
    "\n",
    "Exploramos diferentes números de estimadores"
   ]
  },
  {
   "cell_type": "code",
   "execution_count": null,
   "metadata": {},
   "outputs": [],
   "source": [
    "n_estimators = [1] + list(range(5, 200, 5))\n",
    "train_errors_forest = []\n",
    "test_errors_forest = []\n",
    "\n",
    "for n in n_estimators:\n",
    "    forest = RandomForestRegressor(n_estimators=n, random_state=42)\n",
    "    forest.fit(X_train, y_train)\n",
    "    y_train_pred_forest = forest.predict(X_train)\n",
    "    y_test_pred_forest = forest.predict(X_test)\n",
    "    train_errors_forest.append(mean_squared_error(y_train, y_train_pred_forest))\n",
    "    test_errors_forest.append(mean_squared_error(y_test, y_test_pred_forest))\n",
    "\n",
    "plt.figure(figsize=(17, 12))\n",
    "sns.lineplot(x=n_estimators, y=train_errors_forest, marker='o', color='magenta', label='Train')\n",
    "sns.lineplot(x=n_estimators, y=test_errors_forest, marker='o', color='cyan', label='Test')\n",
    "plt.title('Random Forest Regressor Learning Curve')\n",
    "plt.xlabel('Number of Estimators')\n",
    "plt.ylabel('Mean Squared Error')\n",
    "plt.legend()\n",
    "plt.show()"
   ]
  },
  {
   "cell_type": "markdown",
   "metadata": {},
   "source": [
    "El MSE se estabiliza alrededor de 50"
   ]
  },
  {
   "cell_type": "code",
   "execution_count": null,
   "metadata": {},
   "outputs": [],
   "source": [
    "forest = RandomForestRegressor(n_estimators=50, random_state=42)\n",
    "\n",
    "forest.fit(X_train, y_train)"
   ]
  },
  {
   "cell_type": "code",
   "execution_count": null,
   "metadata": {},
   "outputs": [],
   "source": [
    "y_train_pred_forest = forest.predict(X_train)\n",
    "y_test_pred_forest = forest.predict(X_test)\n",
    "\n",
    "mse_train_forest = mean_squared_error(y_train, y_train_pred_forest, squared = True)\n",
    "mse_test_forest = mean_squared_error(y_test, y_test_pred_forest, squared = True)\n",
    "print(f'El error cuadrático medio en Train: {mse_train_forest}')\n",
    "print(f'El error cuadrático medio en Test: {mse_test_forest}')\n",
    "print()\n",
    "rmse_train_forest = np.sqrt(mse_train_forest)\n",
    "rmse_test_forest = np.sqrt(mse_test_forest)\n",
    "print(rmse_train_forest)\n",
    "print(rmse_test_forest)\n",
    "print()\n",
    "r2_forest = r2_score(y_test, y_test_pred_forest)\n",
    "print('El coeficiente de determinación del regresor es:', r2_forest)"
   ]
  },
  {
   "cell_type": "code",
   "execution_count": null,
   "metadata": {},
   "outputs": [],
   "source": [
    "plt.figure(figsize=(17, 12))\n",
    "sns.scatterplot(x=y_train, y=y_train_pred_forest, color='magenta', alpha=0.2)\n",
    "plt.title('Random Forest Regressor: Predicted vs. Actual Train')\n",
    "plt.xlabel('Actual Values')\n",
    "plt.ylabel('Predicted Values')\n",
    "plt.show()"
   ]
  },
  {
   "cell_type": "code",
   "execution_count": null,
   "metadata": {},
   "outputs": [],
   "source": [
    "plt.figure(figsize=(17, 12))\n",
    "sns.scatterplot(x=y_test, y=y_test_pred_forest, color='cyan', alpha=0.2)\n",
    "plt.title('Random Forest Regressor: Predicted vs. Actual Test')\n",
    "plt.xlabel('Actual Values')\n",
    "plt.ylabel('Predicted Values')\n",
    "plt.show()"
   ]
  },
  {
   "cell_type": "code",
   "execution_count": null,
   "metadata": {},
   "outputs": [],
   "source": [
    "plt.figure(figsize=(17, 12))\n",
    "sns.residplot(x=y_test_pred_forest, y=y_test_pred_forest - y_test, lowess=True, color='magenta',\n",
    "              scatter_kws={'alpha': 0.5}, line_kws={'color': 'cyan'})\n",
    "plt.title('Random Forest Regressor: Residual Plot')\n",
    "plt.xlabel('Predicted Values')\n",
    "plt.ylabel('Residuals')\n",
    "plt.show()"
   ]
  },
  {
   "cell_type": "markdown",
   "metadata": {},
   "source": [
    "### Modelo Support Vector\n",
    "\n",
    "Elegimos el valor de C para la variante lineal"
   ]
  },
  {
   "cell_type": "code",
   "execution_count": null,
   "metadata": {},
   "outputs": [],
   "source": [
    "vector_test = SupportVectorRegressor(kernel='linear')\n",
    "\n",
    "search_space = {\n",
    "    'C': [0.01, 0.1, 1],\n",
    "}\n",
    "\n",
    "rsearch = GridSearchCV(\n",
    "    vector_test, search_space,\n",
    "    n_jobs=-1, scoring='accuracy', cv=3, verbose=0)\n",
    "\n",
    "\n",
    "rsearch.fit(X_train,y_train)"
   ]
  },
  {
   "cell_type": "code",
   "execution_count": null,
   "metadata": {},
   "outputs": [],
   "source": [
    "rsearch.best_params_"
   ]
  },
  {
   "cell_type": "code",
   "execution_count": null,
   "metadata": {},
   "outputs": [],
   "source": [
    "vector_linear = SupportVectorRegressor(kernel='linear', C=0.01)\n",
    "\n",
    "vector_linear.fit(X_train, y_train)"
   ]
  },
  {
   "cell_type": "code",
   "execution_count": null,
   "metadata": {},
   "outputs": [],
   "source": [
    "y_train_pred_vector_linear = vector_linear.predict(X_train)\n",
    "y_test_pred_vector_linear = vector_linear.predict(X_test)\n",
    "\n",
    "mse_train_vector_linear = mean_squared_error(y_train, y_train_pred_vector_linear, squared = True)\n",
    "mse_test_vector_linear = mean_squared_error(y_test, y_test_pred_vector_linear, squared = True)\n",
    "print(f'El error cuadrático medio en Train: {mse_train_vector_linear}')\n",
    "print(f'El error cuadrático medio en Test: {mse_test_vector_linear}')\n",
    "print()\n",
    "rmse_train_vector_linear = np.sqrt(mse_train_vector_linear)\n",
    "rmse_test_vector_linear = np.sqrt(mse_test_vector_linear)\n",
    "print(rmse_train_vector_linear)\n",
    "print(rmse_test_vector_linear)\n",
    "print()\n",
    "r2_vector_linear = r2_score(y_test, y_test_pred_vector_linear)\n",
    "print('El coeficiente de determinación del regresor es:', r2_vector_linear)"
   ]
  },
  {
   "cell_type": "code",
   "execution_count": null,
   "metadata": {},
   "outputs": [],
   "source": [
    "scores = cross_val_score(vector_linear, X_train, y_train, cv=10, scoring='neg_mean_squared_error')\n",
    "\n",
    "positive_scores = -scores\n",
    "\n",
    "print(\"Cross-Validation Scores:\", positive_scores)\n",
    "print(\"Average RMSE:\", positive_scores.mean())"
   ]
  },
  {
   "cell_type": "code",
   "execution_count": null,
   "metadata": {},
   "outputs": [],
   "source": [
    "scores = cross_val_score(vector_linear, X_test, y_test, cv=10, scoring='neg_mean_squared_error')\n",
    "\n",
    "positive_scores = -scores\n",
    "\n",
    "print(\"Cross-Validation Scores:\", positive_scores)\n",
    "print(\"Average RMSE:\", positive_scores.mean())"
   ]
  },
  {
   "cell_type": "code",
   "execution_count": null,
   "metadata": {},
   "outputs": [],
   "source": [
    "plt.figure(figsize=(17, 12))\n",
    "sns.scatterplot(x=y_train_pred_vector_linear, y=y_train, color='magenta', alpha=0.2)\n",
    "plt.title('Support Vector Regression (Linear Kernel): Predicted vs. Actual Train')\n",
    "plt.xlabel('Predicted Values')\n",
    "plt.ylabel('Actual Values')\n",
    "plt.show()"
   ]
  },
  {
   "cell_type": "code",
   "execution_count": null,
   "metadata": {},
   "outputs": [],
   "source": [
    "plt.figure(figsize=(17, 12))\n",
    "sns.scatterplot(x=y_test_pred_vector_linear, y=y_test, color='cyan', alpha=0.2)\n",
    "plt.title('Support Vector Regression (Linear Kernel): Predicted vs. Actual Test')\n",
    "plt.xlabel('Predicted Values')\n",
    "plt.ylabel('Actual Values')\n",
    "plt.show()"
   ]
  },
  {
   "cell_type": "code",
   "execution_count": null,
   "metadata": {},
   "outputs": [],
   "source": [
    "plt.figure(figsize=(17, 12))\n",
    "sns.residplot(x=y_test_pred_vector_linear, y=y_test_pred_vector_linear - y_test, lowess=True, color='magenta',\n",
    "              scatter_kws={'alpha': 0.2}, line_kws={'color': 'cyan'})\n",
    "plt.title('Support Vector Regression (Linear Kernel): Residual Plot')\n",
    "plt.xlabel('Predicted Values')\n",
    "plt.ylabel('Residuals')\n",
    "plt.show()"
   ]
  },
  {
   "cell_type": "markdown",
   "metadata": {},
   "source": [
    "Probamos la variante polinomial"
   ]
  },
  {
   "cell_type": "code",
   "execution_count": null,
   "metadata": {},
   "outputs": [],
   "source": [
    "vector_poly = SupportVectorRegressor(kernel='poly', C=0.1, epsilon=0.1)\n",
    "\n",
    "vector_poly.fit(X_train, y_train)"
   ]
  },
  {
   "cell_type": "code",
   "execution_count": null,
   "metadata": {},
   "outputs": [],
   "source": [
    "y_train_pred_vector_poly = vector_poly.predict(X_train)\n",
    "y_test_pred_vector_poly = vector_poly.predict(X_test)\n",
    "\n",
    "mse_train_vector_poly = mean_squared_error(y_train, y_train_pred_vector_poly, squared = True)\n",
    "mse_test_vector_poly = mean_squared_error(y_test, y_test_pred_vector_poly, squared = True)\n",
    "print(f'El error cuadrático medio en Train: {mse_train_vector_poly}')\n",
    "print(f'El error cuadrático medio en Test: {mse_test_vector_poly}')\n",
    "print()\n",
    "rmse_train_vector_poly = np.sqrt(mse_train_vector_poly)\n",
    "rmse_test_vector_poly = np.sqrt(mse_test_vector_poly)\n",
    "print(f'Raíz del error cuadrático medio en Train: {rmse_train_vector_poly}')\n",
    "print(f'Raíz del error cuadrático medio en Test: {rmse_test_vector_poly}')\n",
    "print()\n",
    "r2_vector_poly = r2_score(y_test, y_test_pred_vector_poly)\n",
    "print('El coeficiente de determinación del regresor es:', r2_vector_poly)"
   ]
  },
  {
   "cell_type": "markdown",
   "metadata": {},
   "source": [
    "Probamos con radial basis function"
   ]
  },
  {
   "cell_type": "code",
   "execution_count": null,
   "metadata": {},
   "outputs": [],
   "source": [
    "vector_rbf = SupportVectorRegressor(kernel='rbf', C=0.1, epsilon=0.1)\n",
    "\n",
    "vector_rbf.fit(X_train, y_train)"
   ]
  },
  {
   "cell_type": "code",
   "execution_count": null,
   "metadata": {},
   "outputs": [],
   "source": [
    "y_train_pred_vector_rbf = vector_rbf.predict(X_train)\n",
    "y_test_pred_vector_rbf = vector_rbf.predict(X_test)\n",
    "\n",
    "mse_train_vector_rbf = mean_squared_error(y_train, y_train_pred_vector_rbf, squared = True)\n",
    "mse_test_vector_rbf = mean_squared_error(y_test, y_test_pred_vector_rbf, squared = True)\n",
    "print(f'El error cuadrático medio en Train: {mse_train_vector_rbf}')\n",
    "print(f'El error cuadrático medio en Test: {mse_test_vector_rbf}')\n",
    "print()\n",
    "rmse_train_vector_rbf = np.sqrt(mse_train_vector_rbf)\n",
    "rmse_test_vector_rbf = np.sqrt(mse_test_vector_rbf)\n",
    "print(f'Raíz del error cuadrático medio en Train: {rmse_train_vector_rbf}')\n",
    "print(f'Raíz del error cuadrático medio en Test: {rmse_test_vector_rbf}')\n",
    "print()\n",
    "r2_vector_rbf = r2_score(y_test, y_test_pred_vector_rbf)\n",
    "print('El coeficiente de determinación del regresor es:', r2_vector_rbf)"
   ]
  },
  {
   "cell_type": "markdown",
   "metadata": {},
   "source": [
    "### Ensamble: Stacking con 3 modelos de mejor performance"
   ]
  },
  {
   "cell_type": "code",
   "execution_count": null,
   "metadata": {},
   "outputs": [],
   "source": [
    "# Elegí los 3 modelos con menor error\n",
    "estimator_list = [\n",
    "    ('lineal', lineal),\n",
    "    ('lineal_poly',lineal_poly),\n",
    "    ('vector_lineal',vector_linear)]\n",
    "\n",
    "# Aplico el stacking con el meta modelo lineal\n",
    "stack_model = StackingRegressor(\n",
    "    estimators=estimator_list, final_estimator=LinearRegression())\n",
    "\n",
    "stack_model.fit(X_train, y_train)\n",
    "\n",
    "y_train_pred_stack = stack_model.predict(X_train)\n",
    "y_test_pred_stack = stack_model.predict(X_test)\n",
    "\n",
    "mse_train_stack = mean_squared_error(y_train, y_train_pred_stack, squared = True)\n",
    "mse_test_stack = mean_squared_error(y_test, y_test_pred_stack, squared = True)\n",
    "print(f'El error cuadrático medio en Train: {mse_train_stack}')\n",
    "print(f'El error cuadrático medio en Test: {mse_test_stack}')\n",
    "\n",
    "print()\n",
    "rmse_train_stack = np.sqrt(mse_train_stack)\n",
    "rmse_test_stack = np.sqrt(mse_test_stack)\n",
    "print(f'Raíz del error cuadrático medio en Train: {rmse_train_stack}')\n",
    "print(f'Raíz del error cuadrático medio en Test: {rmse_test_stack}')\n",
    "print()\n",
    "r2_stack = r2_score(y_test, y_test_pred_stack)\n",
    "print('El coeficiente de determinación del regresor es:', r2_stack)"
   ]
  },
  {
   "cell_type": "code",
   "execution_count": null,
   "metadata": {},
   "outputs": [],
   "source": [
    "scores = cross_val_score(stack_model, X_train, y_train, cv=5, scoring='neg_mean_squared_error')\n",
    "\n",
    "positive_scores = -scores\n",
    "\n",
    "print(\"Cross-Validation Scores:\", positive_scores)\n",
    "print(\"Average MSE:\", positive_scores.mean())"
   ]
  },
  {
   "cell_type": "code",
   "execution_count": null,
   "metadata": {},
   "outputs": [],
   "source": [
    "scores = cross_val_score(stack_model, X_test, y_test, cv=5, scoring='neg_mean_squared_error')\n",
    "\n",
    "positive_scores = -scores\n",
    "\n",
    "print(\"Cross-Validation Scores:\", positive_scores)\n",
    "print(\"Average MSE:\", positive_scores.mean())"
   ]
  },
  {
   "cell_type": "markdown",
   "metadata": {},
   "source": [
    "### Pruebas de predicciones y procesamiento de input"
   ]
  },
  {
   "cell_type": "code",
   "execution_count": null,
   "metadata": {},
   "outputs": [],
   "source": [
    "df.info()"
   ]
  },
  {
   "cell_type": "markdown",
   "metadata": {},
   "source": [
    "Recopilamos los nombres de los géneros, y armamos un diccionario, iniciando los valores en 0."
   ]
  },
  {
   "cell_type": "code",
   "execution_count": null,
   "metadata": {},
   "outputs": [],
   "source": [
    "df_columns = df.columns[6:26]\n",
    "column_dict = {col: 0 for col in df_columns}"
   ]
  },
  {
   "cell_type": "markdown",
   "metadata": {},
   "source": [
    "Simulamos un input un usuario de nuestra API de predicción"
   ]
  },
  {
   "cell_type": "code",
   "execution_count": null,
   "metadata": {},
   "outputs": [],
   "source": [
    "genres = ['AdVenTure', 'AcTiON']"
   ]
  },
  {
   "cell_type": "markdown",
   "metadata": {},
   "source": [
    "Asignamos 1 como valor a los géneros presentes en la lista, case insensitively (sin importar qué combinación de mayúsculas y minúsculas se haya usado en el input)"
   ]
  },
  {
   "cell_type": "code",
   "execution_count": null,
   "metadata": {},
   "outputs": [],
   "source": [
    "for genre in genres:\n",
    "    if genre.lower().capitalize() in column_dict:\n",
    "        column_dict[genre.lower().capitalize()] = 1"
   ]
  },
  {
   "cell_type": "markdown",
   "metadata": {},
   "source": [
    "Observamos el resultado"
   ]
  },
  {
   "cell_type": "code",
   "execution_count": null,
   "metadata": {},
   "outputs": [],
   "source": [
    "column_dict"
   ]
  },
  {
   "cell_type": "markdown",
   "metadata": {},
   "source": [
    "Simulamos un input de fecha, en formato YYYY-MM-DD string"
   ]
  },
  {
   "cell_type": "code",
   "execution_count": null,
   "metadata": {},
   "outputs": [],
   "source": [
    "release_date = \"2012-09-07\"\n",
    "type(release_date)"
   ]
  },
  {
   "cell_type": "markdown",
   "metadata": {},
   "source": [
    "Usamos pandas para que coincida el tipo con el que está en el dataframe."
   ]
  },
  {
   "cell_type": "code",
   "execution_count": null,
   "metadata": {},
   "outputs": [],
   "source": [
    "release_date = pd.to_datetime(release_date)\n",
    "type(release_date)"
   ]
  },
  {
   "cell_type": "markdown",
   "metadata": {},
   "source": [
    "Calculamos la fecha máxima del dataframe"
   ]
  },
  {
   "cell_type": "code",
   "execution_count": null,
   "metadata": {},
   "outputs": [],
   "source": [
    "max_date = df['release_date'].max()\n",
    "print(max_date)\n",
    "type(max_date)"
   ]
  },
  {
   "cell_type": "markdown",
   "metadata": {},
   "source": [
    "Calculamos el delta entre la fecha máxima y la ingresada y redondeamos a entero, obteniendo la edad del release en meses"
   ]
  },
  {
   "cell_type": "code",
   "execution_count": null,
   "metadata": {},
   "outputs": [],
   "source": [
    "release_age_months = (max_date - release_date) // pd.Timedelta(days=30)"
   ]
  },
  {
   "cell_type": "code",
   "execution_count": null,
   "metadata": {},
   "outputs": [],
   "source": [
    "release_age_months"
   ]
  },
  {
   "cell_type": "markdown",
   "metadata": {},
   "source": [
    "Simulamos un input de developer"
   ]
  },
  {
   "cell_type": "code",
   "execution_count": null,
   "metadata": {},
   "outputs": [],
   "source": [
    "developer = 'Rocksteady Studios,Feral Interactive (Mac)'"
   ]
  },
  {
   "cell_type": "code",
   "execution_count": null,
   "metadata": {},
   "outputs": [],
   "source": [
    "X.info()"
   ]
  },
  {
   "cell_type": "markdown",
   "metadata": {},
   "source": [
    "Obtenemos, según el input de developer, los valores developer_total y avg_dev"
   ]
  },
  {
   "cell_type": "code",
   "execution_count": null,
   "metadata": {},
   "outputs": [],
   "source": [
    "specific_developer_rows = df[df['developer'] == developer]\n",
    "\n",
    "developer_total = specific_developer_rows['developer_total'].iloc[0]\n",
    "avg_dev = specific_developer_rows['avg_dev'].iloc[0]\n",
    "\n",
    "print(developer_total, avg_dev)"
   ]
  },
  {
   "cell_type": "markdown",
   "metadata": {},
   "source": [
    "Armamos una primer lista"
   ]
  },
  {
   "cell_type": "code",
   "execution_count": null,
   "metadata": {},
   "outputs": [],
   "source": [
    "lista_1 = [release_age_months, developer_total, avg_dev]"
   ]
  },
  {
   "cell_type": "markdown",
   "metadata": {},
   "source": [
    "Segunda lista, con los valores del diccionario de géneros convertidos a lista (respetando el orden original del dataframe y modelo)."
   ]
  },
  {
   "cell_type": "code",
   "execution_count": null,
   "metadata": {},
   "outputs": [],
   "source": [
    "lista_2 = list(column_dict.values())"
   ]
  },
  {
   "cell_type": "markdown",
   "metadata": {},
   "source": [
    "Convertimos las listas en numpy arrays/vectores"
   ]
  },
  {
   "cell_type": "code",
   "execution_count": null,
   "metadata": {},
   "outputs": [],
   "source": [
    "array1 = np.array(lista_1)\n",
    "array2 = np.array(lista_2)"
   ]
  },
  {
   "cell_type": "markdown",
   "metadata": {},
   "source": [
    "Concatenamos las listas para obtener la X para las predicciones"
   ]
  },
  {
   "cell_type": "code",
   "execution_count": null,
   "metadata": {},
   "outputs": [],
   "source": [
    "X_new = np.concatenate((array1, array2))"
   ]
  },
  {
   "cell_type": "markdown",
   "metadata": {},
   "source": [
    "Aplicamos el mismo escalado que tiene el modelo"
   ]
  },
  {
   "cell_type": "code",
   "execution_count": null,
   "metadata": {},
   "outputs": [],
   "source": [
    "X_new_scaled = sc_X.transform([X_new])"
   ]
  },
  {
   "cell_type": "markdown",
   "metadata": {},
   "source": [
    "Aplicamos las características polinómicas para el modelo que las utiliza"
   ]
  },
  {
   "cell_type": "code",
   "execution_count": null,
   "metadata": {},
   "outputs": [],
   "source": [
    "X_new_poly = poly.transform([X_new])\n",
    "X_new_poly_scaled = scaler.transform(X_new_poly)"
   ]
  },
  {
   "cell_type": "markdown",
   "metadata": {},
   "source": [
    "Usamos el modelo de Árbol"
   ]
  },
  {
   "cell_type": "code",
   "execution_count": null,
   "metadata": {},
   "outputs": [],
   "source": [
    "chosen_model = tree"
   ]
  },
  {
   "cell_type": "markdown",
   "metadata": {},
   "source": [
    "Predecimos"
   ]
  },
  {
   "cell_type": "code",
   "execution_count": null,
   "metadata": {},
   "outputs": [],
   "source": [
    "y_pred = chosen_model.predict(X_new_scaled)\n",
    "y_pred[0]"
   ]
  },
  {
   "cell_type": "markdown",
   "metadata": {},
   "source": [
    "Modelo de Ensamble Stacked"
   ]
  },
  {
   "cell_type": "code",
   "execution_count": null,
   "metadata": {},
   "outputs": [],
   "source": [
    "chosen_model = stack_model"
   ]
  },
  {
   "cell_type": "code",
   "execution_count": null,
   "metadata": {},
   "outputs": [],
   "source": [
    "y_pred = chosen_model.predict(X_new_scaled)\n",
    "y_pred[0]"
   ]
  },
  {
   "cell_type": "markdown",
   "metadata": {},
   "source": [
    "Usamos el modelo con características polinomiales (y usamos la X acondicionada para este)"
   ]
  },
  {
   "cell_type": "code",
   "execution_count": null,
   "metadata": {},
   "outputs": [],
   "source": [
    "chosen_model = lineal_poly"
   ]
  },
  {
   "cell_type": "markdown",
   "metadata": {},
   "source": [
    "Predecimos"
   ]
  },
  {
   "cell_type": "code",
   "execution_count": null,
   "metadata": {},
   "outputs": [],
   "source": [
    "y_pred = chosen_model.predict(X_new_poly_scaled)\n",
    "y_pred[0]"
   ]
  },
  {
   "cell_type": "markdown",
   "metadata": {},
   "source": [
    "Tomamos el modelo SVR con kernel lineal"
   ]
  },
  {
   "cell_type": "code",
   "execution_count": null,
   "metadata": {},
   "outputs": [],
   "source": [
    "chosen_model = vector_linear"
   ]
  },
  {
   "cell_type": "markdown",
   "metadata": {},
   "source": [
    "Predecimos"
   ]
  },
  {
   "cell_type": "code",
   "execution_count": null,
   "metadata": {},
   "outputs": [],
   "source": [
    "y_pred = chosen_model.predict(X_new_scaled)\n",
    "y_pred[0]"
   ]
  },
  {
   "cell_type": "markdown",
   "metadata": {},
   "source": [
    "Usamos el modelo clásico lineal"
   ]
  },
  {
   "cell_type": "code",
   "execution_count": null,
   "metadata": {},
   "outputs": [],
   "source": [
    "chosen_model = lineal"
   ]
  },
  {
   "cell_type": "markdown",
   "metadata": {},
   "source": [
    "Predecimos"
   ]
  },
  {
   "cell_type": "code",
   "execution_count": null,
   "metadata": {},
   "outputs": [],
   "source": [
    "y_pred = chosen_model.predict(X_new_scaled)\n",
    "y_pred[0]"
   ]
  },
  {
   "cell_type": "markdown",
   "metadata": {},
   "source": [
    "Guardamos los pre procesamientos en un diccionario"
   ]
  },
  {
   "cell_type": "code",
   "execution_count": null,
   "metadata": {},
   "outputs": [],
   "source": [
    "preprocessing_steps = {\n",
    "    'scaler': sc_X\n",
    "}"
   ]
  },
  {
   "cell_type": "markdown",
   "metadata": {},
   "source": [
    "Los almacenamos en un archivo de pickle para posterior uso"
   ]
  },
  {
   "cell_type": "code",
   "execution_count": null,
   "metadata": {},
   "outputs": [],
   "source": [
    "with open('preprocessing_steps.pkl', 'wb') as file:\n",
    "    pickle.dump(preprocessing_steps, file)"
   ]
  },
  {
   "cell_type": "markdown",
   "metadata": {},
   "source": [
    "Guardamos el RMSE del SVR con kernel lineal en testeo en un archivo"
   ]
  },
  {
   "cell_type": "code",
   "execution_count": null,
   "metadata": {},
   "outputs": [],
   "source": [
    "with open('rmse_model.txt', 'w') as file:\n",
    "    file.write(str(rmse_test_lineal))"
   ]
  },
  {
   "cell_type": "markdown",
   "metadata": {},
   "source": [
    "Guardamos el modelo elegido en un archivo de pickle."
   ]
  },
  {
   "cell_type": "code",
   "execution_count": null,
   "metadata": {},
   "outputs": [],
   "source": [
    "with open('trained_model.pkl', 'wb') as file:\n",
    "    pickle.dump(chosen_model, file)"
   ]
  },
  {
   "cell_type": "markdown",
   "metadata": {},
   "source": [
    "Todos los modelos con base lineal tuvieron performances similares, por encima de los modelos no basados en el lineal. Por simplicidad del modelo, y un menor peso de archivo, elegimos el modelo clásico lineal."
   ]
  },
  {
   "cell_type": "markdown",
   "metadata": {},
   "source": [
    "Probamos los archivos"
   ]
  },
  {
   "cell_type": "code",
   "execution_count": null,
   "metadata": {},
   "outputs": [],
   "source": [
    "with open('trained_model.pkl', 'rb') as file:\n",
    "    loaded_model = pickle.load(file)"
   ]
  },
  {
   "cell_type": "code",
   "execution_count": null,
   "metadata": {},
   "outputs": [],
   "source": [
    "y_pred_loaded = loaded_model.predict(X_new_scaled)"
   ]
  },
  {
   "cell_type": "code",
   "execution_count": null,
   "metadata": {},
   "outputs": [],
   "source": [
    "y_pred_loaded[0]"
   ]
  },
  {
   "cell_type": "code",
   "execution_count": null,
   "metadata": {},
   "outputs": [],
   "source": [
    "with open('rmse_model.txt', 'r') as file:\n",
    "    rmse_retrieved = file.read()"
   ]
  },
  {
   "cell_type": "code",
   "execution_count": null,
   "metadata": {},
   "outputs": [],
   "source": [
    "float(rmse_retrieved)"
   ]
  }
 ],
 "metadata": {
  "kernelspec": {
   "display_name": "base",
   "language": "python",
   "name": "python3"
  },
  "language_info": {
   "codemirror_mode": {
    "name": "ipython",
    "version": 3
   },
   "file_extension": ".py",
   "mimetype": "text/x-python",
   "name": "python",
   "nbconvert_exporter": "python",
   "pygments_lexer": "ipython3",
   "version": "3.9.7"
  }
 },
 "nbformat": 4,
 "nbformat_minor": 2
}
